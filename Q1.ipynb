{
 "cells": [
  {
   "cell_type": "code",
   "execution_count": 1,
   "id": "309a08fc",
   "metadata": {},
   "outputs": [],
   "source": [
    "import pandas as pd\n",
    "import numpy as np\n",
    "import matplotlib.pyplot as plt"
   ]
  },
  {
   "cell_type": "code",
   "execution_count": 2,
   "id": "648e3a6a",
   "metadata": {},
   "outputs": [],
   "source": [
    "df = pd.read_csv(\"data.csv\")"
   ]
  },
  {
   "cell_type": "code",
   "execution_count": 3,
   "id": "28296894",
   "metadata": {},
   "outputs": [
    {
     "data": {
      "text/plain": [
       "(100, 3)"
      ]
     },
     "execution_count": 3,
     "metadata": {},
     "output_type": "execute_result"
    }
   ],
   "source": [
    "df.shape"
   ]
  },
  {
   "cell_type": "code",
   "execution_count": 4,
   "id": "489c92fe",
   "metadata": {},
   "outputs": [
    {
     "data": {
      "text/html": [
       "<div>\n",
       "<style scoped>\n",
       "    .dataframe tbody tr th:only-of-type {\n",
       "        vertical-align: middle;\n",
       "    }\n",
       "\n",
       "    .dataframe tbody tr th {\n",
       "        vertical-align: top;\n",
       "    }\n",
       "\n",
       "    .dataframe thead th {\n",
       "        text-align: right;\n",
       "    }\n",
       "</style>\n",
       "<table border=\"1\" class=\"dataframe\">\n",
       "  <thead>\n",
       "    <tr style=\"text-align: right;\">\n",
       "      <th></th>\n",
       "      <th>F</th>\n",
       "      <th>N</th>\n",
       "      <th>Prprice per square foot</th>\n",
       "    </tr>\n",
       "  </thead>\n",
       "  <tbody>\n",
       "    <tr>\n",
       "      <th>0</th>\n",
       "      <td>0.44</td>\n",
       "      <td>0.68</td>\n",
       "      <td>511.14</td>\n",
       "    </tr>\n",
       "    <tr>\n",
       "      <th>1</th>\n",
       "      <td>0.99</td>\n",
       "      <td>0.23</td>\n",
       "      <td>717.10</td>\n",
       "    </tr>\n",
       "    <tr>\n",
       "      <th>2</th>\n",
       "      <td>0.84</td>\n",
       "      <td>0.29</td>\n",
       "      <td>607.91</td>\n",
       "    </tr>\n",
       "    <tr>\n",
       "      <th>3</th>\n",
       "      <td>0.28</td>\n",
       "      <td>0.45</td>\n",
       "      <td>270.40</td>\n",
       "    </tr>\n",
       "    <tr>\n",
       "      <th>4</th>\n",
       "      <td>0.07</td>\n",
       "      <td>0.83</td>\n",
       "      <td>289.88</td>\n",
       "    </tr>\n",
       "    <tr>\n",
       "      <th>5</th>\n",
       "      <td>0.66</td>\n",
       "      <td>0.80</td>\n",
       "      <td>830.85</td>\n",
       "    </tr>\n",
       "    <tr>\n",
       "      <th>6</th>\n",
       "      <td>0.73</td>\n",
       "      <td>0.92</td>\n",
       "      <td>1038.09</td>\n",
       "    </tr>\n",
       "    <tr>\n",
       "      <th>7</th>\n",
       "      <td>0.57</td>\n",
       "      <td>0.43</td>\n",
       "      <td>455.19</td>\n",
       "    </tr>\n",
       "    <tr>\n",
       "      <th>8</th>\n",
       "      <td>0.43</td>\n",
       "      <td>0.89</td>\n",
       "      <td>640.17</td>\n",
       "    </tr>\n",
       "    <tr>\n",
       "      <th>9</th>\n",
       "      <td>0.27</td>\n",
       "      <td>0.95</td>\n",
       "      <td>511.06</td>\n",
       "    </tr>\n",
       "    <tr>\n",
       "      <th>10</th>\n",
       "      <td>0.43</td>\n",
       "      <td>0.06</td>\n",
       "      <td>177.03</td>\n",
       "    </tr>\n",
       "    <tr>\n",
       "      <th>11</th>\n",
       "      <td>0.87</td>\n",
       "      <td>0.91</td>\n",
       "      <td>1242.52</td>\n",
       "    </tr>\n",
       "    <tr>\n",
       "      <th>12</th>\n",
       "      <td>0.78</td>\n",
       "      <td>0.69</td>\n",
       "      <td>891.37</td>\n",
       "    </tr>\n",
       "    <tr>\n",
       "      <th>13</th>\n",
       "      <td>0.90</td>\n",
       "      <td>0.94</td>\n",
       "      <td>1339.72</td>\n",
       "    </tr>\n",
       "    <tr>\n",
       "      <th>14</th>\n",
       "      <td>0.41</td>\n",
       "      <td>0.06</td>\n",
       "      <td>169.88</td>\n",
       "    </tr>\n",
       "  </tbody>\n",
       "</table>\n",
       "</div>"
      ],
      "text/plain": [
       "       F     N  Prprice per square foot\n",
       "0   0.44  0.68                   511.14\n",
       "1   0.99  0.23                   717.10\n",
       "2   0.84  0.29                   607.91\n",
       "3   0.28  0.45                   270.40\n",
       "4   0.07  0.83                   289.88\n",
       "5   0.66  0.80                   830.85\n",
       "6   0.73  0.92                  1038.09\n",
       "7   0.57  0.43                   455.19\n",
       "8   0.43  0.89                   640.17\n",
       "9   0.27  0.95                   511.06\n",
       "10  0.43  0.06                   177.03\n",
       "11  0.87  0.91                  1242.52\n",
       "12  0.78  0.69                   891.37\n",
       "13  0.90  0.94                  1339.72\n",
       "14  0.41  0.06                   169.88"
      ]
     },
     "execution_count": 4,
     "metadata": {},
     "output_type": "execute_result"
    }
   ],
   "source": [
    "df.head(15)"
   ]
  },
  {
   "cell_type": "code",
   "execution_count": 7,
   "id": "5f6fcc7a",
   "metadata": {},
   "outputs": [
    {
     "name": "stdout",
     "output_type": "stream",
     "text": [
      "<class 'pandas.core.frame.DataFrame'>\n",
      "RangeIndex: 100 entries, 0 to 99\n",
      "Data columns (total 3 columns):\n",
      " #   Column                   Non-Null Count  Dtype  \n",
      "---  ------                   --------------  -----  \n",
      " 0   F                        100 non-null    float64\n",
      " 1   N                        100 non-null    float64\n",
      " 2   Prprice per square foot  100 non-null    float64\n",
      "dtypes: float64(3)\n",
      "memory usage: 2.5 KB\n"
     ]
    }
   ],
   "source": [
    "df.info()"
   ]
  },
  {
   "cell_type": "code",
   "execution_count": 8,
   "id": "e2a10586",
   "metadata": {},
   "outputs": [
    {
     "data": {
      "text/plain": [
       "F                          0\n",
       "N                          0\n",
       "Prprice per square foot    0\n",
       "dtype: int64"
      ]
     },
     "execution_count": 8,
     "metadata": {},
     "output_type": "execute_result"
    }
   ],
   "source": [
    "# Preprocessing\n",
    "df.isnull().sum()"
   ]
  },
  {
   "cell_type": "code",
   "execution_count": 9,
   "id": "1dc904b6",
   "metadata": {},
   "outputs": [],
   "source": [
    "# Independent and Dependent variables\n",
    "\n",
    "X = df.iloc[:,:-1].values\n",
    "\n",
    "y = df.iloc[:,-1].values"
   ]
  },
  {
   "cell_type": "code",
   "execution_count": 10,
   "id": "898800f1",
   "metadata": {},
   "outputs": [
    {
     "data": {
      "text/plain": [
       "((100, 2), (100,))"
      ]
     },
     "execution_count": 10,
     "metadata": {},
     "output_type": "execute_result"
    }
   ],
   "source": [
    "X.shape , y.shape"
   ]
  },
  {
   "cell_type": "code",
   "execution_count": 11,
   "id": "ecb509b5",
   "metadata": {},
   "outputs": [
    {
     "data": {
      "text/plain": [
       "array([[0.44, 0.68],\n",
       "       [0.99, 0.23],\n",
       "       [0.84, 0.29],\n",
       "       [0.28, 0.45],\n",
       "       [0.07, 0.83],\n",
       "       [0.66, 0.8 ],\n",
       "       [0.73, 0.92],\n",
       "       [0.57, 0.43],\n",
       "       [0.43, 0.89],\n",
       "       [0.27, 0.95],\n",
       "       [0.43, 0.06],\n",
       "       [0.87, 0.91],\n",
       "       [0.78, 0.69],\n",
       "       [0.9 , 0.94],\n",
       "       [0.41, 0.06],\n",
       "       [0.52, 0.17],\n",
       "       [0.47, 0.66],\n",
       "       [0.65, 0.43],\n",
       "       [0.85, 0.64],\n",
       "       [0.93, 0.44],\n",
       "       [0.41, 0.93],\n",
       "       [0.36, 0.43],\n",
       "       [0.78, 0.85],\n",
       "       [0.69, 0.07],\n",
       "       [0.04, 0.52],\n",
       "       [0.17, 0.15],\n",
       "       [0.68, 0.13],\n",
       "       [0.84, 0.6 ],\n",
       "       [0.38, 0.4 ],\n",
       "       [0.12, 0.65],\n",
       "       [0.62, 0.17],\n",
       "       [0.79, 0.97],\n",
       "       [0.82, 0.04],\n",
       "       [0.91, 0.53],\n",
       "       [0.35, 0.85],\n",
       "       [0.57, 0.69],\n",
       "       [0.52, 0.22],\n",
       "       [0.31, 0.15],\n",
       "       [0.6 , 0.02],\n",
       "       [0.99, 0.91],\n",
       "       [0.48, 0.76],\n",
       "       [0.3 , 0.19],\n",
       "       [0.58, 0.62],\n",
       "       [0.65, 0.17],\n",
       "       [0.6 , 0.69],\n",
       "       [0.95, 0.76],\n",
       "       [0.47, 0.23],\n",
       "       [0.15, 0.96],\n",
       "       [0.01, 0.03],\n",
       "       [0.26, 0.23],\n",
       "       [0.01, 0.11],\n",
       "       [0.45, 0.87],\n",
       "       [0.09, 0.97],\n",
       "       [0.96, 0.25],\n",
       "       [0.63, 0.58],\n",
       "       [0.06, 0.42],\n",
       "       [0.1 , 0.24],\n",
       "       [0.26, 0.62],\n",
       "       [0.41, 0.15],\n",
       "       [0.91, 0.95],\n",
       "       [0.83, 0.64],\n",
       "       [0.44, 0.64],\n",
       "       [0.2 , 0.4 ],\n",
       "       [0.43, 0.12],\n",
       "       [0.21, 0.22],\n",
       "       [0.88, 0.4 ],\n",
       "       [0.31, 0.87],\n",
       "       [0.99, 0.99],\n",
       "       [0.23, 0.26],\n",
       "       [0.79, 0.12],\n",
       "       [0.02, 0.28],\n",
       "       [0.89, 0.48],\n",
       "       [0.02, 0.56],\n",
       "       [0.92, 0.03],\n",
       "       [0.72, 0.34],\n",
       "       [0.3 , 0.99],\n",
       "       [0.86, 0.66],\n",
       "       [0.47, 0.65],\n",
       "       [0.79, 0.94],\n",
       "       [0.82, 0.96],\n",
       "       [0.9 , 0.42],\n",
       "       [0.19, 0.62],\n",
       "       [0.7 , 0.57],\n",
       "       [0.7 , 0.61],\n",
       "       [0.69, 0.  ],\n",
       "       [0.98, 0.3 ],\n",
       "       [0.3 , 0.08],\n",
       "       [0.85, 0.49],\n",
       "       [0.73, 0.01],\n",
       "       [1.  , 0.23],\n",
       "       [0.42, 0.94],\n",
       "       [0.49, 0.98],\n",
       "       [0.89, 0.68],\n",
       "       [0.22, 0.46],\n",
       "       [0.34, 0.5 ],\n",
       "       [0.99, 0.13],\n",
       "       [0.28, 0.46],\n",
       "       [0.87, 0.36],\n",
       "       [0.23, 0.87],\n",
       "       [0.77, 0.36]])"
      ]
     },
     "execution_count": 11,
     "metadata": {},
     "output_type": "execute_result"
    }
   ],
   "source": [
    "X"
   ]
  },
  {
   "cell_type": "code",
   "execution_count": 12,
   "id": "38447fab",
   "metadata": {},
   "outputs": [
    {
     "data": {
      "text/plain": [
       "array([ 511.14,  717.1 ,  607.91,  270.4 ,  289.88,  830.85, 1038.09,\n",
       "        455.19,  640.17,  511.06,  177.03, 1242.52,  891.37, 1339.72,\n",
       "        169.88,  276.05,  517.43,  522.25,  932.21,  851.25,  640.11,\n",
       "        308.68, 1046.05,  332.4 ,  171.85,  109.55,  361.97,  872.21,\n",
       "        303.7 ,  256.38,  341.2 , 1194.63,  408.6 ,  895.54,  518.25,\n",
       "        638.75,  301.9 ,  163.38,  240.77, 1449.05,  609.  ,  174.59,\n",
       "        593.45,  355.96,  671.46, 1193.7 ,  278.88,  411.4 ,   42.08,\n",
       "        166.19,   58.62,  642.45,  368.14,  702.78,  615.74,  143.79,\n",
       "        109.  ,  328.28,  205.16, 1360.49,  905.83,  487.33,  202.76,\n",
       "        202.01,  148.87,  745.3 ,  503.04, 1563.82,  165.21,  438.4 ,\n",
       "         98.47,  819.63,  174.44,  483.13,  534.24,  572.31,  957.61,\n",
       "        518.29, 1143.49, 1211.31,  784.74,  283.7 ,  684.38,  719.46,\n",
       "        292.23,  775.68,  130.77,  801.6 ,  323.55,  726.9 ,  661.12,\n",
       "        771.11, 1016.14,  237.69,  325.89,  636.22,  272.12,  696.65,\n",
       "        434.53,  593.86])"
      ]
     },
     "execution_count": 12,
     "metadata": {},
     "output_type": "execute_result"
    }
   ],
   "source": [
    "y"
   ]
  },
  {
   "cell_type": "code",
   "execution_count": 13,
   "id": "7c71be81",
   "metadata": {},
   "outputs": [],
   "source": [
    "#Train and Test Data\n",
    "\n",
    "from sklearn.model_selection import train_test_split\n",
    "X_train , X_test , y_train , y_test = train_test_split(X,y,test_size=0.2,random_state=0)"
   ]
  },
  {
   "cell_type": "code",
   "execution_count": 14,
   "id": "159affe4",
   "metadata": {},
   "outputs": [
    {
     "data": {
      "text/plain": [
       "((80, 2), (20, 2), (80,), (20,))"
      ]
     },
     "execution_count": 14,
     "metadata": {},
     "output_type": "execute_result"
    }
   ],
   "source": [
    "X_train.shape , X_test.shape , y_train.shape , y_test.shape"
   ]
  },
  {
   "cell_type": "code",
   "execution_count": 15,
   "id": "7b715049",
   "metadata": {},
   "outputs": [
    {
     "data": {
      "text/plain": [
       "LinearRegression()"
      ]
     },
     "execution_count": 15,
     "metadata": {},
     "output_type": "execute_result"
    }
   ],
   "source": [
    "from sklearn.linear_model import LinearRegression\n",
    "reg = LinearRegression()\n",
    "reg.fit(X_train,y_train)"
   ]
  },
  {
   "cell_type": "code",
   "execution_count": 16,
   "id": "ff1d2891",
   "metadata": {},
   "outputs": [
    {
     "data": {
      "text/plain": [
       "array([ 426.09146539,   58.82595194,  671.86958179,   70.59925474,\n",
       "        655.72394234,  237.66554823,  588.89726222,  571.74180841,\n",
       "        677.2517328 ,  698.94769006,  751.25407187,  971.69207474,\n",
       "       1054.21622072, 1151.03617141,  526.05107197,  399.51785749,\n",
       "        986.38053984,  118.5888131 ,  890.9059235 ,  704.55433467])"
      ]
     },
     "execution_count": 16,
     "metadata": {},
     "output_type": "execute_result"
    }
   ],
   "source": [
    "y_pred = reg.predict(X_test)\n",
    "y_pred"
   ]
  },
  {
   "cell_type": "code",
   "execution_count": 18,
   "id": "399a397e",
   "metadata": {},
   "outputs": [
    {
     "data": {
      "text/plain": [
       "[<matplotlib.lines.Line2D at 0x23b58544b80>]"
      ]
     },
     "execution_count": 18,
     "metadata": {},
     "output_type": "execute_result"
    },
    {
     "data": {
      "image/png": "[encoded data removed]",
      "text/plain": [
       "<Figure size 432x288 with 1 Axes>"
      ]
     },
     "metadata": {
      "needs_background": "light"
     },
     "output_type": "display_data"
    }
   ],
   "source": [
    "plt.scatter(y_pred,y_test,color='green')\n",
    "plt.plot(y_pred,y_test,color='blue')"
   ]
  },
  {
   "cell_type": "code",
   "execution_count": 19,
   "id": "743c3a29",
   "metadata": {},
   "outputs": [
    {
     "data": {
      "text/plain": [
       "array([575.61045828])"
      ]
     },
     "execution_count": 19,
     "metadata": {},
     "output_type": "execute_result"
    }
   ],
   "source": [
    "reg.predict([[0.44,0.68]])"
   ]
  },
  {
   "cell_type": "code",
   "execution_count": 20,
   "id": "72cc29d0",
   "metadata": {},
   "outputs": [
    {
     "data": {
      "text/plain": [
       "array([160.13089288])"
      ]
     },
     "execution_count": 20,
     "metadata": {},
     "output_type": "execute_result"
    }
   ],
   "source": [
    "reg.predict([[0.43,0.06]])"
   ]
  },
  {
   "cell_type": "code",
   "execution_count": 21,
   "id": "39333659",
   "metadata": {},
   "outputs": [
    {
     "data": {
      "text/plain": [
       "array([1151.03617141])"
      ]
     },
     "execution_count": 21,
     "metadata": {},
     "output_type": "execute_result"
    }
   ],
   "source": [
    "reg.predict([[0.90,0.94]])"
   ]
  },
  {
   "cell_type": "markdown",
   "id": "77747b17",
   "metadata": {},
   "source": [
    "Polynomial Regression Model"
   ]
  },
  {
   "cell_type": "code",
   "execution_count": 22,
   "id": "4e8754c9",
   "metadata": {},
   "outputs": [
    {
     "data": {
      "text/plain": [
       "LinearRegression()"
      ]
     },
     "execution_count": 22,
     "metadata": {},
     "output_type": "execute_result"
    }
   ],
   "source": [
    "from sklearn.preprocessing import PolynomialFeatures\n",
    "poly_reg = PolynomialFeatures(degree = 3)\n",
    "X_poly = poly_reg.fit_transform(X_train)\n",
    "lg1 = LinearRegression()\n",
    "lg1.fit(X_poly,y_train)"
   ]
  },
  {
   "cell_type": "code",
   "execution_count": 23,
   "id": "57cdfa94",
   "metadata": {},
   "outputs": [],
   "source": [
    "y_pred1 = lg1.predict(poly_reg.fit_transform(X_test))"
   ]
  },
  {
   "cell_type": "code",
   "execution_count": 24,
   "id": "69f495b9",
   "metadata": {},
   "outputs": [
    {
     "data": {
      "text/plain": [
       "array([ 359.50360287,  131.23834372,  609.16930978,  149.98412841,\n",
       "        566.72101623,  237.76303341,  520.60934004,  485.30770519,\n",
       "        619.83089854,  632.50577664,  703.21376307, 1024.98728581,\n",
       "       1151.24558258, 1330.85054638,  460.70580041,  340.84136488,\n",
       "       1041.64246977,  170.75998438,  901.57838952,  636.04094675])"
      ]
     },
     "execution_count": 24,
     "metadata": {},
     "output_type": "execute_result"
    }
   ],
   "source": [
    "y_pred1"
   ]
  },
  {
   "cell_type": "code",
   "execution_count": 25,
   "id": "5bcc8421",
   "metadata": {},
   "outputs": [
    {
     "data": {
      "text/plain": [
       "[<matplotlib.lines.Line2D at 0x23b585c61f0>]"
      ]
     },
     "execution_count": 25,
     "metadata": {},
     "output_type": "execute_result"
    },
    {
     "data": {
      "image/png": "[encoded data removed]",
      "text/plain": [
       "<Figure size 432x288 with 1 Axes>"
      ]
     },
     "metadata": {
      "needs_background": "light"
     },
     "output_type": "display_data"
    }
   ],
   "source": [
    "plt.scatter(y_pred1,y_test,color='red')\n",
    "plt.plot(y_pred1,y_test,color='yellow')"
   ]
  },
  {
   "cell_type": "markdown",
   "id": "e001f88b",
   "metadata": {},
   "source": [
    "# Conclusion"
   ]
  },
  {
   "cell_type": "markdown",
   "id": "d3b853fc",
   "metadata": {},
   "source": [
    "So I used here Multiple Linear regression model and Polynomial Regression model.\n",
    "As I have plotted scatter-plot for these two models , it is seen that Polynomial regression model gives best regression line.\n",
    "\n",
    "So for these Data ,Polynomial Regression model is better than Multiple Linear regression model."
   ]
  },
  {
   "cell_type": "code",
   "execution_count": null,
   "id": "64ef11dd",
   "metadata": {},
   "outputs": [],
   "source": []
  }
 ],
 "metadata": {
  "kernelspec": {
   "display_name": "Python 3 (ipykernel)",
   "language": "python",
   "name": "python3"
  },
  "language_info": {
   "codemirror_mode": {
    "name": "ipython",
    "version": 3
   },
   "file_extension": ".py",
   "mimetype": "text/x-python",
   "name": "python",
   "nbconvert_exporter": "python",
   "pygments_lexer": "ipython3",
   "version": "3.9.7"
  }
 },
 "nbformat": 4,
 "nbformat_minor": 5
}
